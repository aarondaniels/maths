{
  "nbformat": 4,
  "nbformat_minor": 0,
  "metadata": {
    "colab": {
      "name": "Basic Stats.ipynb",
      "provenance": []
    },
    "kernelspec": {
      "name": "python3",
      "display_name": "Python 3"
    },
    "language_info": {
      "name": "python"
    }
  },
  "cells": [
    {
      "cell_type": "markdown",
      "source": [
        "# Population vs. Sample Variance\n"
      ],
      "metadata": {
        "id": "1Lpz9800lb_N"
      }
    },
    {
      "cell_type": "markdown",
      "source": [
        "## A few fundamental formulas:\n",
        "\n",
        "mean $$ \\mu_{x} = \\frac{\\sum x}{N}  $$\n",
        "\n",
        "Polulation Variance $$ \\sigma^{2} = \\frac{\\sum(x -\\mu_{x})^{2}}{N}  $$\n",
        "\n",
        "Unbiased Sample Variance $$ \\sigma^{2} = \\frac{\\sum(x -\\mu_{x})^{2}}{N-1}  $$"
      ],
      "metadata": {
        "id": "HHIzcWToRadB"
      }
    },
    {
      "cell_type": "code",
      "execution_count": null,
      "metadata": {
        "colab": {
          "base_uri": "https://localhost:8080/"
        },
        "id": "adaQ4zSkkj_N",
        "outputId": "889f6ed5-7fb8-4977-a81c-570063d1e166"
      },
      "outputs": [
        {
          "output_type": "execute_result",
          "data": {
            "text/plain": [
              "(5.0, 5.6, 8.2, 8.3)"
            ]
          },
          "metadata": {},
          "execution_count": 8
        }
      ],
      "source": [
        "import numpy as np\n",
        "\n",
        "#generate an array\n",
        "p = np.array([5,4,4,9,9,8,2,0,3,6])\n",
        "\n",
        "#calculate mean and variance of array\n",
        "pmean = p.mean()\n",
        "pvar = np.var(p)\n",
        "\n",
        "#take sample from array\n",
        "s = np.array([5,4,9,8,2])\n",
        "\n",
        "#calculuate sample mean and sample variance from sample set\n",
        "smean = s.mean()\n",
        "svar = np.var(s, ddof=1) #degree of freedom = 0 indicates a division by 0, as in n-0 in the variance formula\n",
        "\n",
        "\n",
        "pmean, smean, pvar, svar"
      ]
    },
    {
      "cell_type": "code",
      "source": [
        "import matplotlib.pyplot as plt\n",
        "from scipy.stats import norm\n",
        "\n",
        "#Generate 200 points\n",
        "Npoints = 200\n",
        "#set up arrays to record results\n",
        "diffMean = []\n",
        "diffVariance = []\n",
        "bestMean = []\n",
        "bestVar = []\n",
        "#generate random distribution of points between 0 and 100\n",
        "p = np.random.uniform(0, 100, Npoints)\n",
        "#calculate mean and variance\n",
        "pmean = p.mean()\n",
        "pvar = np.var(p)\n",
        "\n",
        "#take a sample and calculate mean and variance\n",
        "N=1000\n",
        "\n",
        "\n",
        "\n",
        "for i in range(N):\n",
        "  sample = np.random.choice(p, 50)        #choose sample from population\n",
        "  smean = sample.mean()                   #sample mean\n",
        "  svar = np.var(sample, ddof=1)           #sample variance. ddof = 0 or 1 means divide by N or N-1, respectively. \n",
        "  \n",
        "  diffMean.append(pmean-smean)            #mean difference between sample and population\n",
        "  bestMean.append(np.sum(diffMean)/(len(diffMean))) #accumulate and average values in the array\n",
        "  diffVariance.append(pvar-svar)          #variance difference between sample and population\n",
        "  bestVar.append(np.sum(diffVariance)/len(diffVariance)) #accumlate and average the difference in variance. The hope is that the two averages converge. \n",
        "\n",
        "#plot results\n",
        "plt.scatter(range(N), bestMean, color = 'b', label='Mean Error')\n",
        "plt.ylabel('Error')\n",
        "plt.scatter(range(N), bestVar, color='g', label='Variance Error')\n",
        "plt.legend(loc='upper right')\n",
        "print(pmean, pvar)\n"
      ],
      "metadata": {
        "colab": {
          "base_uri": "https://localhost:8080/",
          "height": 282
        },
        "id": "SZhl5xRylc-J",
        "outputId": "5535a8c9-ef3b-470c-9fdd-90201ed43011"
      },
      "execution_count": null,
      "outputs": [
        {
          "output_type": "stream",
          "name": "stdout",
          "text": [
            "50.217390597372926 820.9047247852839\n"
          ]
        },
        {
          "output_type": "display_data",
          "data": {
            "text/plain": [
              "<Figure size 432x288 with 1 Axes>"
            ],
            "image/png": "[encoded data removed]"
          },
          "metadata": {
            "needs_background": "light"
          }
        }
      ]
    },
    {
      "cell_type": "markdown",
      "source": [
        "With initial prameters of 100 samples and 0 degrees of freedom, a convergence of variance is not observed. In fact, there is not a convergence with a greater number of samples either. The only way a convergence between the two arrays is observed is if the degree's of freedom is increased by 1. For this reason, sample variance is calculated realtive to N-1.This is challenging to prove mathematically but is clear when demonstrated numerically. "
      ],
      "metadata": {
        "id": "N3OAFG-Jesi9"
      }
    },
    {
      "cell_type": "markdown",
      "source": [
        "To further illustrate the need for implementing a correction, consider the variance as a function of means in the following exercise. "
      ],
      "metadata": {
        "id": "GPnlu8SSkicW"
      }
    },
    {
      "cell_type": "code",
      "source": [
        "import numpy as np\n",
        "import matplotlib.pyplot as plt\n",
        "\n",
        "population = np.array([5, 4, 4, 9, 9, 8, 2, 0, 3, 6])\n",
        "sample = np.array([5, 4, 4, 8, 6])\n",
        "\n",
        "\n",
        "#create a function to calculate variance. Numpy function not used as it automatically calculates variance with a corrected mean\n",
        "def variance(sample, mean, bias): #bias indicates degree's of freedom. Biased calculation would not remove a degree of freedom where unbiased removes 1 degree of freedom\n",
        "    N = len(sample)\n",
        "    s2 = 0\n",
        "    for i in range(0,N):\n",
        "        x = sample[i]-mean\n",
        "        s2 = s2 + (x * x) \n",
        "    var = s2/(N - bias)\n",
        "    return var\n",
        "\n",
        "N = 10\n",
        "\n",
        "var_pop = []\n",
        "var_sample = []\n",
        "\n",
        "#loop over the population mean and change to calcualte variance of population\n",
        "for mean in range(0,N):   # shift the mean from 0 to N\n",
        "    var_pop.append( variance(population, mean, 0))\n",
        "\n",
        "#loop over the sample mean and calculate variance of sample\n",
        "for mean in range(0,N):   # shift the mean from 0 to N\n",
        "    var_sample.append( variance(sample, mean, 1))\n",
        "\n",
        "# Plot both sample and population variance\n",
        "plt.scatter(range(N),var_pop,color='b', label='Population')\n",
        "\n",
        "plt.scatter(range(N),var_sample,color='r', label='Sample')\n",
        "plt.ylim([0, 50])\n",
        "plt.ylabel('Variance')\n",
        "plt.xlabel('Mean')\n",
        "plt.legend(loc='upper right')"
      ],
      "metadata": {
        "colab": {
          "base_uri": "https://localhost:8080/",
          "height": 300
        },
        "id": "rO6TysWyeNgc",
        "outputId": "90873d94-1dcf-440c-b7b1-419e12269ab8"
      },
      "execution_count": null,
      "outputs": [
        {
          "output_type": "execute_result",
          "data": {
            "text/plain": [
              "<matplotlib.legend.Legend at 0x7fe6132c1d90>"
            ]
          },
          "metadata": {},
          "execution_count": 10
        },
        {
          "output_type": "display_data",
          "data": {
            "text/plain": [
              "<Figure size 432x288 with 1 Axes>"
            ],
            "image/png": "[encoded data removed]"
          },
          "metadata": {
            "needs_background": "light"
          }
        }
      ]
    },
    {
      "cell_type": "markdown",
      "source": [
        "As observed, the sample variance always underestimates the population variance when degree's of freedom are not corrected. As the mean increases, the underestimation increases. For this reason, a correction is always needed to correct for the underestimation. "
      ],
      "metadata": {
        "id": "s3ArKRiMksIC"
      }
    },
    {
      "cell_type": "code",
      "source": [
        ""
      ],
      "metadata": {
        "id": "omZeCBRgksuC"
      },
      "execution_count": null,
      "outputs": []
    },
    {
      "cell_type": "markdown",
      "source": [
        "# Correlation and Covariance"
      ],
      "metadata": {
        "id": "6--Zrbpsma6v"
      }
    },
    {
      "cell_type": "markdown",
      "source": [
        "Covariance is the measure of the relationship between two variables (i.e. if one varible increases, the other variable either increases or decreases). It is quantified by the covariance coefficient. "
      ],
      "metadata": {
        "id": "8u0KoqXgnU-c"
      }
    },
    {
      "cell_type": "code",
      "source": [
        "#Covariance Calculation - results can vary from +infitiy to -infitity\n",
        "\n",
        "#establish variables that are being evaluated\n",
        "x = np.array([-1, 0., 1])\n",
        "y = np.array([-1, 0., 1])\n",
        "\n",
        "plt.scatter(x,y)\n",
        "plt.xlabel('X')\n",
        "plt.ylabel('Y')\n",
        "cov = np.sum(x*y)/3\n",
        "cov"
      ],
      "metadata": {
        "colab": {
          "base_uri": "https://localhost:8080/",
          "height": 296
        },
        "id": "XvxoOaiWmdfj",
        "outputId": "968f30d1-36ef-4155-a5a6-4a8000f66203"
      },
      "execution_count": null,
      "outputs": [
        {
          "output_type": "execute_result",
          "data": {
            "text/plain": [
              "0.6666666666666666"
            ]
          },
          "metadata": {},
          "execution_count": 11
        },
        {
          "output_type": "display_data",
          "data": {
            "text/plain": [
              "<Figure size 432x288 with 1 Axes>"
            ],
            "image/png": "[encoded data removed]"
          },
          "metadata": {
            "needs_background": "light"
          }
        }
      ]
    },
    {
      "cell_type": "markdown",
      "source": [
        "The calculation, as noted above, does not scale well (i.e. values can go +/- infinity). For this reason, the Pearson Correlation Coefficient is used. "
      ],
      "metadata": {
        "id": "6I06sZFBpa3-"
      }
    },
    {
      "cell_type": "code",
      "source": [
        "#Pearson Correlation Calculation\n",
        "\n",
        "#First calculate the covariance coefficient\n",
        "x = np.array([-1, 0., 1])\n",
        "y = np.array([-100, 0., 100])\n",
        "cov = np.sum(x*y)/3\n",
        "print(cov)\n",
        "\n",
        "#Then, for comparison, calculate the Pearson Correlation Coefficient\n",
        "xy = x[0]*y[0] + x[1]*y[1] + x[2]*y[2]\n",
        "xx = x[0]*x[0] + x[1]*x[1] + x[2]*x[2]\n",
        "yy = y[0]*y[0] + y[1]*y[1] + y[2]*y[2]\n",
        "xy = xy/np.sqrt(xx * yy)\n",
        "xy"
      ],
      "metadata": {
        "colab": {
          "base_uri": "https://localhost:8080/"
        },
        "id": "Ju99_az3pGRi",
        "outputId": "96226a07-e07a-46bd-cb98-63c600953a12"
      },
      "execution_count": null,
      "outputs": [
        {
          "output_type": "stream",
          "name": "stdout",
          "text": [
            "66.66666666666667\n"
          ]
        },
        {
          "output_type": "execute_result",
          "data": {
            "text/plain": [
              "1.0"
            ]
          },
          "metadata": {},
          "execution_count": 12
        }
      ]
    },
    {
      "cell_type": "markdown",
      "source": [
        "Calculate correlation with a dataframe"
      ],
      "metadata": {
        "id": "0_fvURGkq0hT"
      }
    },
    {
      "cell_type": "code",
      "source": [
        "import pandas as pd\n",
        "\n",
        "#establish dataframe\n",
        "data = {'X':x, 'Y':y}\n",
        "df = pd.DataFrame(data)\n",
        "corr = df.corr() #correlation coefficient in this function is always normalized so it's between 0 and 1\n",
        "corr"
      ],
      "metadata": {
        "colab": {
          "base_uri": "https://localhost:8080/",
          "height": 111
        },
        "id": "xgVOgXnMqS97",
        "outputId": "8c529047-0360-4410-faaf-062de05114ff"
      },
      "execution_count": null,
      "outputs": [
        {
          "output_type": "execute_result",
          "data": {
            "text/plain": [
              "     X    Y\n",
              "X  1.0  1.0\n",
              "Y  1.0  1.0"
            ],
            "text/html": [
              "\n",
              "  <div id=\"df-5319eb74-81d6-47db-a4d5-d942769a2d19\">\n",
              "    <div class=\"colab-df-container\">\n",
              "      <div>\n",
              "<style scoped>\n",
              "    .dataframe tbody tr th:only-of-type {\n",
              "        vertical-align: middle;\n",
              "    }\n",
              "\n",
              "    .dataframe tbody tr th {\n",
              "        vertical-align: top;\n",
              "    }\n",
              "\n",
              "    .dataframe thead th {\n",
              "        text-align: right;\n",
              "    }\n",
              "</style>\n",
              "<table border=\"1\" class=\"dataframe\">\n",
              "  <thead>\n",
              "    <tr style=\"text-align: right;\">\n",
              "      <th></th>\n",
              "      <th>X</th>\n",
              "      <th>Y</th>\n",
              "    </tr>\n",
              "  </thead>\n",
              "  <tbody>\n",
              "    <tr>\n",
              "      <th>X</th>\n",
              "      <td>1.0</td>\n",
              "      <td>1.0</td>\n",
              "    </tr>\n",
              "    <tr>\n",
              "      <th>Y</th>\n",
              "      <td>1.0</td>\n",
              "      <td>1.0</td>\n",
              "    </tr>\n",
              "  </tbody>\n",
              "</table>\n",
              "</div>\n",
              "      <button class=\"colab-df-convert\" onclick=\"convertToInteractive('df-5319eb74-81d6-47db-a4d5-d942769a2d19')\"\n",
              "              title=\"Convert this dataframe to an interactive table.\"\n",
              "              style=\"display:none;\">\n",
              "        \n",
              "  <svg xmlns=\"http://www.w3.org/2000/svg\" height=\"24px\"viewBox=\"0 0 24 24\"\n",
              "       width=\"24px\">\n",
              "    <path d=\"M0 0h24v24H0V0z\" fill=\"none\"/>\n",
              "    <path d=\"M18.56 5.44l.94 2.06.94-2.06 2.06-.94-2.06-.94-.94-2.06-.94 2.06-2.06.94zm-11 1L8.5 8.5l.94-2.06 2.06-.94-2.06-.94L8.5 2.5l-.94 2.06-2.06.94zm10 10l.94 2.06.94-2.06 2.06-.94-2.06-.94-.94-2.06-.94 2.06-2.06.94z\"/><path d=\"M17.41 7.96l-1.37-1.37c-.4-.4-.92-.59-1.43-.59-.52 0-1.04.2-1.43.59L10.3 9.45l-7.72 7.72c-.78.78-.78 2.05 0 2.83L4 21.41c.39.39.9.59 1.41.59.51 0 1.02-.2 1.41-.59l7.78-7.78 2.81-2.81c.8-.78.8-2.07 0-2.86zM5.41 20L4 18.59l7.72-7.72 1.47 1.35L5.41 20z\"/>\n",
              "  </svg>\n",
              "      </button>\n",
              "      \n",
              "  <style>\n",
              "    .colab-df-container {\n",
              "      display:flex;\n",
              "      flex-wrap:wrap;\n",
              "      gap: 12px;\n",
              "    }\n",
              "\n",
              "    .colab-df-convert {\n",
              "      background-color: #E8F0FE;\n",
              "      border: none;\n",
              "      border-radius: 50%;\n",
              "      cursor: pointer;\n",
              "      display: none;\n",
              "      fill: #1967D2;\n",
              "      height: 32px;\n",
              "      padding: 0 0 0 0;\n",
              "      width: 32px;\n",
              "    }\n",
              "\n",
              "    .colab-df-convert:hover {\n",
              "      background-color: #E2EBFA;\n",
              "      box-shadow: 0px 1px 2px rgba(60, 64, 67, 0.3), 0px 1px 3px 1px rgba(60, 64, 67, 0.15);\n",
              "      fill: #174EA6;\n",
              "    }\n",
              "\n",
              "    [theme=dark] .colab-df-convert {\n",
              "      background-color: #3B4455;\n",
              "      fill: #D2E3FC;\n",
              "    }\n",
              "\n",
              "    [theme=dark] .colab-df-convert:hover {\n",
              "      background-color: #434B5C;\n",
              "      box-shadow: 0px 1px 3px 1px rgba(0, 0, 0, 0.15);\n",
              "      filter: drop-shadow(0px 1px 2px rgba(0, 0, 0, 0.3));\n",
              "      fill: #FFFFFF;\n",
              "    }\n",
              "  </style>\n",
              "\n",
              "      <script>\n",
              "        const buttonEl =\n",
              "          document.querySelector('#df-5319eb74-81d6-47db-a4d5-d942769a2d19 button.colab-df-convert');\n",
              "        buttonEl.style.display =\n",
              "          google.colab.kernel.accessAllowed ? 'block' : 'none';\n",
              "\n",
              "        async function convertToInteractive(key) {\n",
              "          const element = document.querySelector('#df-5319eb74-81d6-47db-a4d5-d942769a2d19');\n",
              "          const dataTable =\n",
              "            await google.colab.kernel.invokeFunction('convertToInteractive',\n",
              "                                                     [key], {});\n",
              "          if (!dataTable) return;\n",
              "\n",
              "          const docLinkHtml = 'Like what you see? Visit the ' +\n",
              "            '<a target=\"_blank\" href=https://colab.research.google.com/notebooks/data_table.ipynb>data table notebook</a>'\n",
              "            + ' to learn more about interactive tables.';\n",
              "          element.innerHTML = '';\n",
              "          dataTable['output_type'] = 'display_data';\n",
              "          await google.colab.output.renderOutput(dataTable, element);\n",
              "          const docLink = document.createElement('div');\n",
              "          docLink.innerHTML = docLinkHtml;\n",
              "          element.appendChild(docLink);\n",
              "        }\n",
              "      </script>\n",
              "    </div>\n",
              "  </div>\n",
              "  "
            ]
          },
          "metadata": {},
          "execution_count": 13
        }
      ]
    },
    {
      "cell_type": "code",
      "source": [
        "#examine a larger dataframe\n",
        "dict = {'A':[1,3,5], 'B':[5,2,2], 'C':[2,3,4]}\n",
        "df = pd.DataFrame(dict)\n",
        "df"
      ],
      "metadata": {
        "colab": {
          "base_uri": "https://localhost:8080/",
          "height": 142
        },
        "id": "dcxBLoMYq-9o",
        "outputId": "e16d3f10-4f79-4511-cf43-9b42b1af7c17"
      },
      "execution_count": null,
      "outputs": [
        {
          "output_type": "execute_result",
          "data": {
            "text/plain": [
              "   A  B  C\n",
              "0  1  5  2\n",
              "1  3  2  3\n",
              "2  5  2  4"
            ],
            "text/html": [
              "\n",
              "  <div id=\"df-f515bcd1-9779-41a6-9061-c58a1f430cfc\">\n",
              "    <div class=\"colab-df-container\">\n",
              "      <div>\n",
              "<style scoped>\n",
              "    .dataframe tbody tr th:only-of-type {\n",
              "        vertical-align: middle;\n",
              "    }\n",
              "\n",
              "    .dataframe tbody tr th {\n",
              "        vertical-align: top;\n",
              "    }\n",
              "\n",
              "    .dataframe thead th {\n",
              "        text-align: right;\n",
              "    }\n",
              "</style>\n",
              "<table border=\"1\" class=\"dataframe\">\n",
              "  <thead>\n",
              "    <tr style=\"text-align: right;\">\n",
              "      <th></th>\n",
              "      <th>A</th>\n",
              "      <th>B</th>\n",
              "      <th>C</th>\n",
              "    </tr>\n",
              "  </thead>\n",
              "  <tbody>\n",
              "    <tr>\n",
              "      <th>0</th>\n",
              "      <td>1</td>\n",
              "      <td>5</td>\n",
              "      <td>2</td>\n",
              "    </tr>\n",
              "    <tr>\n",
              "      <th>1</th>\n",
              "      <td>3</td>\n",
              "      <td>2</td>\n",
              "      <td>3</td>\n",
              "    </tr>\n",
              "    <tr>\n",
              "      <th>2</th>\n",
              "      <td>5</td>\n",
              "      <td>2</td>\n",
              "      <td>4</td>\n",
              "    </tr>\n",
              "  </tbody>\n",
              "</table>\n",
              "</div>\n",
              "      <button class=\"colab-df-convert\" onclick=\"convertToInteractive('df-f515bcd1-9779-41a6-9061-c58a1f430cfc')\"\n",
              "              title=\"Convert this dataframe to an interactive table.\"\n",
              "              style=\"display:none;\">\n",
              "        \n",
              "  <svg xmlns=\"http://www.w3.org/2000/svg\" height=\"24px\"viewBox=\"0 0 24 24\"\n",
              "       width=\"24px\">\n",
              "    <path d=\"M0 0h24v24H0V0z\" fill=\"none\"/>\n",
              "    <path d=\"M18.56 5.44l.94 2.06.94-2.06 2.06-.94-2.06-.94-.94-2.06-.94 2.06-2.06.94zm-11 1L8.5 8.5l.94-2.06 2.06-.94-2.06-.94L8.5 2.5l-.94 2.06-2.06.94zm10 10l.94 2.06.94-2.06 2.06-.94-2.06-.94-.94-2.06-.94 2.06-2.06.94z\"/><path d=\"M17.41 7.96l-1.37-1.37c-.4-.4-.92-.59-1.43-.59-.52 0-1.04.2-1.43.59L10.3 9.45l-7.72 7.72c-.78.78-.78 2.05 0 2.83L4 21.41c.39.39.9.59 1.41.59.51 0 1.02-.2 1.41-.59l7.78-7.78 2.81-2.81c.8-.78.8-2.07 0-2.86zM5.41 20L4 18.59l7.72-7.72 1.47 1.35L5.41 20z\"/>\n",
              "  </svg>\n",
              "      </button>\n",
              "      \n",
              "  <style>\n",
              "    .colab-df-container {\n",
              "      display:flex;\n",
              "      flex-wrap:wrap;\n",
              "      gap: 12px;\n",
              "    }\n",
              "\n",
              "    .colab-df-convert {\n",
              "      background-color: #E8F0FE;\n",
              "      border: none;\n",
              "      border-radius: 50%;\n",
              "      cursor: pointer;\n",
              "      display: none;\n",
              "      fill: #1967D2;\n",
              "      height: 32px;\n",
              "      padding: 0 0 0 0;\n",
              "      width: 32px;\n",
              "    }\n",
              "\n",
              "    .colab-df-convert:hover {\n",
              "      background-color: #E2EBFA;\n",
              "      box-shadow: 0px 1px 2px rgba(60, 64, 67, 0.3), 0px 1px 3px 1px rgba(60, 64, 67, 0.15);\n",
              "      fill: #174EA6;\n",
              "    }\n",
              "\n",
              "    [theme=dark] .colab-df-convert {\n",
              "      background-color: #3B4455;\n",
              "      fill: #D2E3FC;\n",
              "    }\n",
              "\n",
              "    [theme=dark] .colab-df-convert:hover {\n",
              "      background-color: #434B5C;\n",
              "      box-shadow: 0px 1px 3px 1px rgba(0, 0, 0, 0.15);\n",
              "      filter: drop-shadow(0px 1px 2px rgba(0, 0, 0, 0.3));\n",
              "      fill: #FFFFFF;\n",
              "    }\n",
              "  </style>\n",
              "\n",
              "      <script>\n",
              "        const buttonEl =\n",
              "          document.querySelector('#df-f515bcd1-9779-41a6-9061-c58a1f430cfc button.colab-df-convert');\n",
              "        buttonEl.style.display =\n",
              "          google.colab.kernel.accessAllowed ? 'block' : 'none';\n",
              "\n",
              "        async function convertToInteractive(key) {\n",
              "          const element = document.querySelector('#df-f515bcd1-9779-41a6-9061-c58a1f430cfc');\n",
              "          const dataTable =\n",
              "            await google.colab.kernel.invokeFunction('convertToInteractive',\n",
              "                                                     [key], {});\n",
              "          if (!dataTable) return;\n",
              "\n",
              "          const docLinkHtml = 'Like what you see? Visit the ' +\n",
              "            '<a target=\"_blank\" href=https://colab.research.google.com/notebooks/data_table.ipynb>data table notebook</a>'\n",
              "            + ' to learn more about interactive tables.';\n",
              "          element.innerHTML = '';\n",
              "          dataTable['output_type'] = 'display_data';\n",
              "          await google.colab.output.renderOutput(dataTable, element);\n",
              "          const docLink = document.createElement('div');\n",
              "          docLink.innerHTML = docLinkHtml;\n",
              "          element.appendChild(docLink);\n",
              "        }\n",
              "      </script>\n",
              "    </div>\n",
              "  </div>\n",
              "  "
            ]
          },
          "metadata": {},
          "execution_count": 14
        }
      ]
    },
    {
      "cell_type": "code",
      "source": [
        "plt.scatter('A', 'B', data=dict)\n",
        "plt.scatter('A', 'C', data=dict)\n",
        "plt.scatter('B', 'C', data=dict)\n",
        "plt.axis([0,7,0,7])\n",
        "corr = df.corr()\n",
        "corr"
      ],
      "metadata": {
        "colab": {
          "base_uri": "https://localhost:8080/",
          "height": 394
        },
        "id": "4sQ5WiizrWjo",
        "outputId": "3dbb82d7-e263-4c3f-98d6-14312b58c2cc"
      },
      "execution_count": null,
      "outputs": [
        {
          "output_type": "execute_result",
          "data": {
            "text/plain": [
              "          A         B         C\n",
              "A  1.000000 -0.866025  1.000000\n",
              "B -0.866025  1.000000 -0.866025\n",
              "C  1.000000 -0.866025  1.000000"
            ],
            "text/html": [
              "\n",
              "  <div id=\"df-a99530b0-750a-41c9-a65b-8cbf150482ae\">\n",
              "    <div class=\"colab-df-container\">\n",
              "      <div>\n",
              "<style scoped>\n",
              "    .dataframe tbody tr th:only-of-type {\n",
              "        vertical-align: middle;\n",
              "    }\n",
              "\n",
              "    .dataframe tbody tr th {\n",
              "        vertical-align: top;\n",
              "    }\n",
              "\n",
              "    .dataframe thead th {\n",
              "        text-align: right;\n",
              "    }\n",
              "</style>\n",
              "<table border=\"1\" class=\"dataframe\">\n",
              "  <thead>\n",
              "    <tr style=\"text-align: right;\">\n",
              "      <th></th>\n",
              "      <th>A</th>\n",
              "      <th>B</th>\n",
              "      <th>C</th>\n",
              "    </tr>\n",
              "  </thead>\n",
              "  <tbody>\n",
              "    <tr>\n",
              "      <th>A</th>\n",
              "      <td>1.000000</td>\n",
              "      <td>-0.866025</td>\n",
              "      <td>1.000000</td>\n",
              "    </tr>\n",
              "    <tr>\n",
              "      <th>B</th>\n",
              "      <td>-0.866025</td>\n",
              "      <td>1.000000</td>\n",
              "      <td>-0.866025</td>\n",
              "    </tr>\n",
              "    <tr>\n",
              "      <th>C</th>\n",
              "      <td>1.000000</td>\n",
              "      <td>-0.866025</td>\n",
              "      <td>1.000000</td>\n",
              "    </tr>\n",
              "  </tbody>\n",
              "</table>\n",
              "</div>\n",
              "      <button class=\"colab-df-convert\" onclick=\"convertToInteractive('df-a99530b0-750a-41c9-a65b-8cbf150482ae')\"\n",
              "              title=\"Convert this dataframe to an interactive table.\"\n",
              "              style=\"display:none;\">\n",
              "        \n",
              "  <svg xmlns=\"http://www.w3.org/2000/svg\" height=\"24px\"viewBox=\"0 0 24 24\"\n",
              "       width=\"24px\">\n",
              "    <path d=\"M0 0h24v24H0V0z\" fill=\"none\"/>\n",
              "    <path d=\"M18.56 5.44l.94 2.06.94-2.06 2.06-.94-2.06-.94-.94-2.06-.94 2.06-2.06.94zm-11 1L8.5 8.5l.94-2.06 2.06-.94-2.06-.94L8.5 2.5l-.94 2.06-2.06.94zm10 10l.94 2.06.94-2.06 2.06-.94-2.06-.94-.94-2.06-.94 2.06-2.06.94z\"/><path d=\"M17.41 7.96l-1.37-1.37c-.4-.4-.92-.59-1.43-.59-.52 0-1.04.2-1.43.59L10.3 9.45l-7.72 7.72c-.78.78-.78 2.05 0 2.83L4 21.41c.39.39.9.59 1.41.59.51 0 1.02-.2 1.41-.59l7.78-7.78 2.81-2.81c.8-.78.8-2.07 0-2.86zM5.41 20L4 18.59l7.72-7.72 1.47 1.35L5.41 20z\"/>\n",
              "  </svg>\n",
              "      </button>\n",
              "      \n",
              "  <style>\n",
              "    .colab-df-container {\n",
              "      display:flex;\n",
              "      flex-wrap:wrap;\n",
              "      gap: 12px;\n",
              "    }\n",
              "\n",
              "    .colab-df-convert {\n",
              "      background-color: #E8F0FE;\n",
              "      border: none;\n",
              "      border-radius: 50%;\n",
              "      cursor: pointer;\n",
              "      display: none;\n",
              "      fill: #1967D2;\n",
              "      height: 32px;\n",
              "      padding: 0 0 0 0;\n",
              "      width: 32px;\n",
              "    }\n",
              "\n",
              "    .colab-df-convert:hover {\n",
              "      background-color: #E2EBFA;\n",
              "      box-shadow: 0px 1px 2px rgba(60, 64, 67, 0.3), 0px 1px 3px 1px rgba(60, 64, 67, 0.15);\n",
              "      fill: #174EA6;\n",
              "    }\n",
              "\n",
              "    [theme=dark] .colab-df-convert {\n",
              "      background-color: #3B4455;\n",
              "      fill: #D2E3FC;\n",
              "    }\n",
              "\n",
              "    [theme=dark] .colab-df-convert:hover {\n",
              "      background-color: #434B5C;\n",
              "      box-shadow: 0px 1px 3px 1px rgba(0, 0, 0, 0.15);\n",
              "      filter: drop-shadow(0px 1px 2px rgba(0, 0, 0, 0.3));\n",
              "      fill: #FFFFFF;\n",
              "    }\n",
              "  </style>\n",
              "\n",
              "      <script>\n",
              "        const buttonEl =\n",
              "          document.querySelector('#df-a99530b0-750a-41c9-a65b-8cbf150482ae button.colab-df-convert');\n",
              "        buttonEl.style.display =\n",
              "          google.colab.kernel.accessAllowed ? 'block' : 'none';\n",
              "\n",
              "        async function convertToInteractive(key) {\n",
              "          const element = document.querySelector('#df-a99530b0-750a-41c9-a65b-8cbf150482ae');\n",
              "          const dataTable =\n",
              "            await google.colab.kernel.invokeFunction('convertToInteractive',\n",
              "                                                     [key], {});\n",
              "          if (!dataTable) return;\n",
              "\n",
              "          const docLinkHtml = 'Like what you see? Visit the ' +\n",
              "            '<a target=\"_blank\" href=https://colab.research.google.com/notebooks/data_table.ipynb>data table notebook</a>'\n",
              "            + ' to learn more about interactive tables.';\n",
              "          element.innerHTML = '';\n",
              "          dataTable['output_type'] = 'display_data';\n",
              "          await google.colab.output.renderOutput(dataTable, element);\n",
              "          const docLink = document.createElement('div');\n",
              "          docLink.innerHTML = docLinkHtml;\n",
              "          element.appendChild(docLink);\n",
              "        }\n",
              "      </script>\n",
              "    </div>\n",
              "  </div>\n",
              "  "
            ]
          },
          "metadata": {},
          "execution_count": 15
        },
        {
          "output_type": "display_data",
          "data": {
            "text/plain": [
              "<Figure size 432x288 with 1 Axes>"
            ],
            "image/png": "[encoded data removed]"
          },
          "metadata": {
            "needs_background": "light"
          }
        }
      ]
    },
    {
      "cell_type": "markdown",
      "source": [
        "# Central Limit Theorem"
      ],
      "metadata": {
        "id": "-e_xDbU5scVR"
      }
    },
    {
      "cell_type": "markdown",
      "source": [
        "As observed, a sample mean isn't always reflective of the population mean. However, when working with samples from a population distribution, a collection of means will create a normal distribution around the population mean. Over several trials, the unbiased variance approximates the population variance. As sample size increases, the variance decreases (i.e. the error in the mean goes down)."
      ],
      "metadata": {
        "id": "SgQbk71zsgfZ"
      }
    },
    {
      "cell_type": "markdown",
      "source": [
        ""
      ],
      "metadata": {
        "id": "GavUtjGauHKc"
      }
    },
    {
      "cell_type": "code",
      "source": [
        "# flip coin and calculate mean and variance\n",
        "\n",
        "s = np.random.randint(0,2,10000)\n",
        "\n",
        "Va = s.var()\n",
        "Sv = s.var(ddof = 1)\n",
        "print(f'Pop Mean: {s.mean()}')\n",
        "print(f'Pop Variance S2: {Va}')\n",
        "print(f'Sample Unbiased Variance S2: {Sv}')"
      ],
      "metadata": {
        "colab": {
          "base_uri": "https://localhost:8080/"
        },
        "id": "WgLwr9fNrejr",
        "outputId": "2b6c2a3b-afa3-4f07-877f-30885bd81104"
      },
      "execution_count": null,
      "outputs": [
        {
          "output_type": "stream",
          "name": "stdout",
          "text": [
            "Pop Mean: 0.5034\n",
            "Pop Variance S2: 0.24998843999999998\n",
            "Sample Unbiased Variance S2: 0.2500134413441344\n"
          ]
        }
      ]
    },
    {
      "cell_type": "markdown",
      "source": [
        "### mean and unbiased variance\n",
        "\n",
        "\n",
        "$$ \\sigma_x = \\sqrt{ \\frac{\\sum(x -\\mu_{x})*(x -\\mu_{x})}{N} } = \\sqrt{\\frac{\\sum X*X}{N}}$$\n",
        "#### Note that the values range between +1 and -1"
      ],
      "metadata": {
        "id": "J2P4CaRdT0Ps"
      }
    },
    {
      "cell_type": "code",
      "source": [
        "# roll 6 sided dice and calculate mean and variance\n",
        "s = np.random.randint(1,7,100000)\n",
        "Va = s.var()                       # population variance\n",
        "Sv = s.var(ddof=1)\n",
        "print(f'Pop Mean: {s.mean()}')\n",
        "print(f'Pop Variance S2: {Va}')\n",
        "print(f'Sample Unbiased Variance S2: {Sv}')"
      ],
      "metadata": {
        "colab": {
          "base_uri": "https://localhost:8080/"
        },
        "id": "HD_5vHV2u9pH",
        "outputId": "07702e19-63a5-4933-eb48-5218b75d0ac4"
      },
      "execution_count": null,
      "outputs": [
        {
          "output_type": "stream",
          "name": "stdout",
          "text": [
            "Pop Mean: 3.49521\n",
            "Pop Variance S2: 2.9180570559000008\n",
            "Sample Unbiased Variance S2: 2.9180862367623686\n"
          ]
        }
      ]
    },
    {
      "cell_type": "markdown",
      "source": [
        "For trials where we take M tickets  \n",
        "Trial Mean $$ \\mu_{x} = \\frac{\\sum x}{M}  $$\n",
        "\n",
        "Sample Distribution Variance is Population Variance divided by our M  \n",
        "$$ s^{2} = \\frac{\\sigma^{2}}{M}  $$"
      ],
      "metadata": {
        "id": "Jcui80zuVbVK"
      }
    },
    {
      "cell_type": "code",
      "source": [
        "import seaborn as sns\n",
        "\n",
        "#  Central Limit Theorem Applied to Rolls of 6 sided dice \n",
        "#  Sample from Box taking n Tickets - then calc. mean and variance \n",
        "s = np.random.randint(1,7,100000)  # Create the box of tickets                       # population variance\n",
        "print(f'Pop Variance S2: {s.var()}')\n",
        "N = 500                            # number of trials  \n",
        "V = []\n",
        "\n",
        "def getDistribution(s,M,N):        # args(samplePop, samplesize, num_samples)\n",
        "    samples = []\n",
        "    np.random.seed(seed=3)\n",
        "    for i in np.arange(N):\n",
        "        sample = np.random.choice(s,M).sum()/M\n",
        "        samples.append(sample)\n",
        "    return samples\n",
        "\n",
        "for M in [5,20,100]:               # Change the sample size and loop\n",
        "    S = getDistribution(s,M,N)     \n",
        "    s2 = np.array(S).var(ddof=0)   # Variance of the mean for sample\n",
        "    V.append({M:s2})               # Variance of Mean ve goes down with sample size  ve * i = pop sample variancee\n",
        "    #plt.hist(S, bins=20, density=True, alpha = 0.2)\n",
        "    sns.kdeplot(data=S)\n",
        "    print(f'var Sample: {s2}')\n",
        "                                   # print out the sample variance * N (sample number)\n",
        "print(f'Best Estimate N*S2_sample : {[list(var.keys())[0] * list(var.values())[0]  for index, var in enumerate(V)]}')\n",
        "\n",
        "testSample = np.array(np.random.choice(s,100))\n",
        "print(f'Unbiased Estimate :  {testSample.var(ddof =1)}')\n",
        "print(f'Biased Estimate :    {testSample.var(ddof =0)}')\n"
      ],
      "metadata": {
        "colab": {
          "base_uri": "https://localhost:8080/",
          "height": 384
        },
        "id": "lb4jzfkBVUkR",
        "outputId": "411d52fc-91c1-4217-bc03-d684ade4a928"
      },
      "execution_count": null,
      "outputs": [
        {
          "output_type": "stream",
          "name": "stdout",
          "text": [
            "Pop Variance S2: 2.9173545984\n",
            "var Sample: 0.52592816\n",
            "var Sample: 0.13558356000000005\n",
            "var Sample: 0.028655902399999995\n",
            "Best Estimate N*S2_sample : [2.6296408, 2.711671200000001, 2.8655902399999995]\n",
            "Unbiased Estimate :  2.962727272727272\n",
            "Biased Estimate :    2.9330999999999996\n"
          ]
        },
        {
          "output_type": "display_data",
          "data": {
            "text/plain": [
              "<Figure size 432x288 with 1 Axes>"
            ],
            "image/png": "[encoded data removed]"
          },
          "metadata": {
            "needs_background": "light"
          }
        }
      ]
    },
    {
      "cell_type": "markdown",
      "source": [
        "This illustrates the Central Limit Theorem: with increasing mean's, the variance (of the mean) decreases. "
      ],
      "metadata": {
        "id": "LaVFfDzxXarW"
      }
    },
    {
      "cell_type": "code",
      "source": [
        "s = np.random.randint(1,7,100)\n",
        "N = 1000   # number of times we take sample\n",
        "n = 3     # sample size \n",
        "samples = []\n",
        "for i in np.arange(N):\n",
        "    sample = np.random.choice(s,n).sum()/n\n",
        "    samples.append(sample)\n",
        "plt.hist(samples, bins=10, density=True, alpha = 0.3)\n",
        "sns.kdeplot(data=samples)"
      ],
      "metadata": {
        "id": "HjM7QvDsVwGi",
        "colab": {
          "base_uri": "https://localhost:8080/",
          "height": 282
        },
        "outputId": "eb8bb3ab-6af1-460a-e3fb-0c9cdc01c9ae"
      },
      "execution_count": 25,
      "outputs": [
        {
          "output_type": "execute_result",
          "data": {
            "text/plain": [
              "<matplotlib.axes._subplots.AxesSubplot at 0x7fe6108f82d0>"
            ]
          },
          "metadata": {},
          "execution_count": 25
        },
        {
          "output_type": "display_data",
          "data": {
            "text/plain": [
              "<Figure size 432x288 with 1 Axes>"
            ],
            "image/png": "[encoded data removed]"
          },
          "metadata": {
            "needs_background": "light"
          }
        }
      ]
    },
    {
      "cell_type": "code",
      "source": [
        "# understand how scaling a*x + b  affects mean and variance\n",
        "# N(mu,sigma**2)   =>  N(a*mu + b,  a**2 * sigma**2)\n",
        "n = 4                           # number in sample\n",
        "np.random.seed(seed = 1)\n",
        "s = np.random.randint(1,7,n)    # get sample \n",
        "a = 1                           # scale factor = a\n",
        "b = 0                           # shift = b\n",
        "s1 = s + s\n",
        "print(f'sample: {s} mean: {s.mean()} variance: {s.var()}' )\n",
        "print(f'ScaleS: {s1} mean: {s1.mean()} variance: {s1.var()}' )\n"
      ],
      "metadata": {
        "colab": {
          "base_uri": "https://localhost:8080/"
        },
        "id": "GGOdxfpu6f9x",
        "outputId": "c6816e12-9fd3-4c7a-90a3-8e8540922f56"
      },
      "execution_count": 26,
      "outputs": [
        {
          "output_type": "stream",
          "name": "stdout",
          "text": [
            "sample: [6 4 5 1] mean: 4.0 variance: 3.5\n",
            "ScaleS: [12  8 10  2] mean: 8.0 variance: 14.0\n"
          ]
        }
      ]
    },
    {
      "cell_type": "markdown",
      "source": [
        "# Application of Correlation Concepts"
      ],
      "metadata": {
        "id": "wnJ8qAciYzQn"
      }
    },
    {
      "cell_type": "markdown",
      "source": [
        "Use basic statistics to understand whether there is a correlation of wine or spirits with Beer in Asia"
      ],
      "metadata": {
        "id": "7F-ROIzYZL1S"
      }
    },
    {
      "cell_type": "code",
      "source": [
        "import pandas as pd\n",
        "import numpy as np\n",
        "\n",
        "drinks = pd.read_csv('http://bit.ly/drinksbycountry')\n",
        "\n",
        "#Pull out drinks from Asia\n",
        "asia = drinks.loc[drinks['continent'] == 'Asia']\n",
        "asia.head()\n",
        "\n",
        "#assess correlation\n",
        "asia.corr()\n"
      ],
      "metadata": {
        "colab": {
          "base_uri": "https://localhost:8080/",
          "height": 173
        },
        "id": "_SFI2pmnY6Di",
        "outputId": "7628f885-4a96-45ee-b1af-893bd047535f"
      },
      "execution_count": null,
      "outputs": [
        {
          "output_type": "execute_result",
          "data": {
            "text/plain": [
              "                              beer_servings  spirit_servings  wine_servings  \\\n",
              "beer_servings                      1.000000         0.694426       0.437488   \n",
              "spirit_servings                    0.694426         1.000000       0.225150   \n",
              "wine_servings                      0.437488         0.225150       1.000000   \n",
              "total_litres_of_pure_alcohol       0.899253         0.772893       0.533320   \n",
              "\n",
              "                              total_litres_of_pure_alcohol  \n",
              "beer_servings                                     0.899253  \n",
              "spirit_servings                                   0.772893  \n",
              "wine_servings                                     0.533320  \n",
              "total_litres_of_pure_alcohol                      1.000000  "
            ],
            "text/html": [
              "\n",
              "  <div id=\"df-2538ce38-f3b7-4bda-8d85-bc0e614540e1\">\n",
              "    <div class=\"colab-df-container\">\n",
              "      <div>\n",
              "<style scoped>\n",
              "    .dataframe tbody tr th:only-of-type {\n",
              "        vertical-align: middle;\n",
              "    }\n",
              "\n",
              "    .dataframe tbody tr th {\n",
              "        vertical-align: top;\n",
              "    }\n",
              "\n",
              "    .dataframe thead th {\n",
              "        text-align: right;\n",
              "    }\n",
              "</style>\n",
              "<table border=\"1\" class=\"dataframe\">\n",
              "  <thead>\n",
              "    <tr style=\"text-align: right;\">\n",
              "      <th></th>\n",
              "      <th>beer_servings</th>\n",
              "      <th>spirit_servings</th>\n",
              "      <th>wine_servings</th>\n",
              "      <th>total_litres_of_pure_alcohol</th>\n",
              "    </tr>\n",
              "  </thead>\n",
              "  <tbody>\n",
              "    <tr>\n",
              "      <th>beer_servings</th>\n",
              "      <td>1.000000</td>\n",
              "      <td>0.694426</td>\n",
              "      <td>0.437488</td>\n",
              "      <td>0.899253</td>\n",
              "    </tr>\n",
              "    <tr>\n",
              "      <th>spirit_servings</th>\n",
              "      <td>0.694426</td>\n",
              "      <td>1.000000</td>\n",
              "      <td>0.225150</td>\n",
              "      <td>0.772893</td>\n",
              "    </tr>\n",
              "    <tr>\n",
              "      <th>wine_servings</th>\n",
              "      <td>0.437488</td>\n",
              "      <td>0.225150</td>\n",
              "      <td>1.000000</td>\n",
              "      <td>0.533320</td>\n",
              "    </tr>\n",
              "    <tr>\n",
              "      <th>total_litres_of_pure_alcohol</th>\n",
              "      <td>0.899253</td>\n",
              "      <td>0.772893</td>\n",
              "      <td>0.533320</td>\n",
              "      <td>1.000000</td>\n",
              "    </tr>\n",
              "  </tbody>\n",
              "</table>\n",
              "</div>\n",
              "      <button class=\"colab-df-convert\" onclick=\"convertToInteractive('df-2538ce38-f3b7-4bda-8d85-bc0e614540e1')\"\n",
              "              title=\"Convert this dataframe to an interactive table.\"\n",
              "              style=\"display:none;\">\n",
              "        \n",
              "  <svg xmlns=\"http://www.w3.org/2000/svg\" height=\"24px\"viewBox=\"0 0 24 24\"\n",
              "       width=\"24px\">\n",
              "    <path d=\"M0 0h24v24H0V0z\" fill=\"none\"/>\n",
              "    <path d=\"M18.56 5.44l.94 2.06.94-2.06 2.06-.94-2.06-.94-.94-2.06-.94 2.06-2.06.94zm-11 1L8.5 8.5l.94-2.06 2.06-.94-2.06-.94L8.5 2.5l-.94 2.06-2.06.94zm10 10l.94 2.06.94-2.06 2.06-.94-2.06-.94-.94-2.06-.94 2.06-2.06.94z\"/><path d=\"M17.41 7.96l-1.37-1.37c-.4-.4-.92-.59-1.43-.59-.52 0-1.04.2-1.43.59L10.3 9.45l-7.72 7.72c-.78.78-.78 2.05 0 2.83L4 21.41c.39.39.9.59 1.41.59.51 0 1.02-.2 1.41-.59l7.78-7.78 2.81-2.81c.8-.78.8-2.07 0-2.86zM5.41 20L4 18.59l7.72-7.72 1.47 1.35L5.41 20z\"/>\n",
              "  </svg>\n",
              "      </button>\n",
              "      \n",
              "  <style>\n",
              "    .colab-df-container {\n",
              "      display:flex;\n",
              "      flex-wrap:wrap;\n",
              "      gap: 12px;\n",
              "    }\n",
              "\n",
              "    .colab-df-convert {\n",
              "      background-color: #E8F0FE;\n",
              "      border: none;\n",
              "      border-radius: 50%;\n",
              "      cursor: pointer;\n",
              "      display: none;\n",
              "      fill: #1967D2;\n",
              "      height: 32px;\n",
              "      padding: 0 0 0 0;\n",
              "      width: 32px;\n",
              "    }\n",
              "\n",
              "    .colab-df-convert:hover {\n",
              "      background-color: #E2EBFA;\n",
              "      box-shadow: 0px 1px 2px rgba(60, 64, 67, 0.3), 0px 1px 3px 1px rgba(60, 64, 67, 0.15);\n",
              "      fill: #174EA6;\n",
              "    }\n",
              "\n",
              "    [theme=dark] .colab-df-convert {\n",
              "      background-color: #3B4455;\n",
              "      fill: #D2E3FC;\n",
              "    }\n",
              "\n",
              "    [theme=dark] .colab-df-convert:hover {\n",
              "      background-color: #434B5C;\n",
              "      box-shadow: 0px 1px 3px 1px rgba(0, 0, 0, 0.15);\n",
              "      filter: drop-shadow(0px 1px 2px rgba(0, 0, 0, 0.3));\n",
              "      fill: #FFFFFF;\n",
              "    }\n",
              "  </style>\n",
              "\n",
              "      <script>\n",
              "        const buttonEl =\n",
              "          document.querySelector('#df-2538ce38-f3b7-4bda-8d85-bc0e614540e1 button.colab-df-convert');\n",
              "        buttonEl.style.display =\n",
              "          google.colab.kernel.accessAllowed ? 'block' : 'none';\n",
              "\n",
              "        async function convertToInteractive(key) {\n",
              "          const element = document.querySelector('#df-2538ce38-f3b7-4bda-8d85-bc0e614540e1');\n",
              "          const dataTable =\n",
              "            await google.colab.kernel.invokeFunction('convertToInteractive',\n",
              "                                                     [key], {});\n",
              "          if (!dataTable) return;\n",
              "\n",
              "          const docLinkHtml = 'Like what you see? Visit the ' +\n",
              "            '<a target=\"_blank\" href=https://colab.research.google.com/notebooks/data_table.ipynb>data table notebook</a>'\n",
              "            + ' to learn more about interactive tables.';\n",
              "          element.innerHTML = '';\n",
              "          dataTable['output_type'] = 'display_data';\n",
              "          await google.colab.output.renderOutput(dataTable, element);\n",
              "          const docLink = document.createElement('div');\n",
              "          docLink.innerHTML = docLinkHtml;\n",
              "          element.appendChild(docLink);\n",
              "        }\n",
              "      </script>\n",
              "    </div>\n",
              "  </div>\n",
              "  "
            ]
          },
          "metadata": {},
          "execution_count": 24
        }
      ]
    },
    {
      "cell_type": "markdown",
      "source": [
        "Based on this assessment, Spirits have a stronger correlation than wine"
      ],
      "metadata": {
        "id": "KkU467M4al4-"
      }
    },
    {
      "cell_type": "markdown",
      "source": [
        ""
      ],
      "metadata": {
        "id": "LfHAVf64ZpW-"
      }
    },
    {
      "cell_type": "code",
      "source": [
        "variance = [list(v.values())[0]   for i,v in enumerate(V)]\n",
        "plt.plot(variance)"
      ],
      "metadata": {
        "id": "508tOnAIZgDd",
        "colab": {
          "base_uri": "https://localhost:8080/",
          "height": 282
        },
        "outputId": "a92ace54-ecca-4a3a-9084-4fed287f5d3a"
      },
      "execution_count": 27,
      "outputs": [
        {
          "output_type": "execute_result",
          "data": {
            "text/plain": [
              "[<matplotlib.lines.Line2D at 0x7fe6107b5410>]"
            ]
          },
          "metadata": {},
          "execution_count": 27
        },
        {
          "output_type": "display_data",
          "data": {
            "text/plain": [
              "<Figure size 432x288 with 1 Axes>"
            ],
            "image/png": "[encoded data removed]"
          },
          "metadata": {
            "needs_background": "light"
          }
        }
      ]
    },
    {
      "cell_type": "code",
      "source": [
        "# what happens if we add two distributions\n",
        "mu = 1\n",
        "sigma = 1\n",
        "s1 = np.random.normal(mu,sigma, 1000)\n",
        "s2 = np.random.normal(mu,sigma, 1000)\n",
        "S = s1 + s2                 # be careful - what does numpy do here\n",
        "\n",
        "print(f' mean1: {s1.mean()} variance: {s1.var()}' )\n",
        "print(f' mean2: {s2.mean()} variance: {s2.var()}' )\n",
        "print(f' mean12: {S.mean()} variance2: {S.var()}' )\n",
        "\n",
        "#plt.hist(s, bins = 20, alpha = 0.2, density=True)\n",
        "plt.hist(s+s,bins = 20,  alpha = 0.2, density=True)"
      ],
      "metadata": {
        "colab": {
          "base_uri": "https://localhost:8080/",
          "height": 401
        },
        "id": "gMSvmSzJ6jXJ",
        "outputId": "4382bca8-dbfa-46fc-93c9-5c18bd9279db"
      },
      "execution_count": 28,
      "outputs": [
        {
          "output_type": "stream",
          "name": "stdout",
          "text": [
            " mean1: 1.0352141425351744 variance: 0.9655633184785181\n",
            " mean2: 1.0306395005446571 variance: 1.0551410753865211\n",
            " mean12: 2.0658536430798313 variance2: 2.061049114188966\n"
          ]
        },
        {
          "output_type": "execute_result",
          "data": {
            "text/plain": [
              "(array([0.5, 0. , 0. , 0. , 0. , 0. , 0. , 0. , 0. , 0. , 0. , 0. , 0.5,\n",
              "        0. , 0. , 0. , 0.5, 0. , 0. , 0.5]),\n",
              " array([ 2. ,  2.5,  3. ,  3.5,  4. ,  4.5,  5. ,  5.5,  6. ,  6.5,  7. ,\n",
              "         7.5,  8. ,  8.5,  9. ,  9.5, 10. , 10.5, 11. , 11.5, 12. ]),\n",
              " <a list of 20 Patch objects>)"
            ]
          },
          "metadata": {},
          "execution_count": 28
        },
        {
          "output_type": "display_data",
          "data": {
            "text/plain": [
              "<Figure size 432x288 with 1 Axes>"
            ],
            "image/png": "[encoded data removed]"
          },
          "metadata": {
            "needs_background": "light"
          }
        }
      ]
    },
    {
      "cell_type": "code",
      "source": [
        "#  Plot from CFD curve - be careful - are we sampling population at all here ?\n",
        "mu = 1\n",
        "sigma = 1.000\n",
        "N = 2\n",
        "def normal(x, mu, sigma):\n",
        "    c = 1/(sigma*np.sqrt(2*np.pi))\n",
        "    return c * np.exp( -0.5*(x - mu)*(x - mu)/(sigma*sigma))\n",
        "x = np.arange(-4,4,0.01)\n",
        "\n",
        "y = normal(x, mu, sigma)\n",
        "y1 = normal(x, mu, sigma)\n",
        "\n",
        "\n",
        "plt.plot(x,y)\n",
        "plt.plot(x,y + y1)\n",
        "\n",
        "print(f'var1: {y.var()} var2: {y1.var()}')"
      ],
      "metadata": {
        "colab": {
          "base_uri": "https://localhost:8080/",
          "height": 282
        },
        "id": "dBhuFFGn6lh9",
        "outputId": "77330733-625d-4b7b-c1b8-e2cf177d41f5"
      },
      "execution_count": 29,
      "outputs": [
        {
          "output_type": "stream",
          "name": "stdout",
          "text": [
            "var1: 0.019679306645486623 var2: 0.019679306645486623\n"
          ]
        },
        {
          "output_type": "display_data",
          "data": {
            "text/plain": [
              "<Figure size 432x288 with 1 Axes>"
            ],
            "image/png": "[encoded data removed]"
          },
          "metadata": {
            "needs_background": "light"
          }
        }
      ]
    },
    {
      "cell_type": "code",
      "source": [
        ""
      ],
      "metadata": {
        "id": "qdUl3auZ6nij"
      },
      "execution_count": null,
      "outputs": []
    }
  ]
}